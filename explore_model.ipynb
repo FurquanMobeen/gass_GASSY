{
 "cells": [
  {
   "cell_type": "code",
   "execution_count": null,
   "id": "4f3cae72",
   "metadata": {},
   "outputs": [],
   "source": [
    "from ultralytics import YOLO"
   ]
  },
  {
   "cell_type": "code",
   "execution_count": 3,
   "id": "881a2c3a",
   "metadata": {},
   "outputs": [],
   "source": [
    "# Load model\n",
    "model = YOLO(\"models/detection/yolo11x_finetuned_bottles_on_site_v3_copy.pt\")"
   ]
  },
  {
   "cell_type": "code",
   "execution_count": 5,
   "id": "f09f5992",
   "metadata": {},
   "outputs": [
    {
     "name": "stdout",
     "output_type": "stream",
     "text": [
      "YOLO11x summary: 357 layers, 56,874,931 parameters, 0 gradients, 195.4 GFLOPs\n"
     ]
    },
    {
     "data": {
      "text/plain": [
       "(357, 56874931, 0, 195.44908800000002)"
      ]
     },
     "execution_count": 5,
     "metadata": {},
     "output_type": "execute_result"
    }
   ],
   "source": [
    "# Explore this model\n",
    "model.info()"
   ]
  },
  {
   "cell_type": "markdown",
   "id": "471a5f88",
   "metadata": {},
   "source": [
    "| Field | Meaning |\n",
    "|:-------|:---------|\n",
    "| **357 layers** | Depth (complexity) of the YOLO11x model architecture |\n",
    "| **56.9M parameters** | Total number of learnable weights (model size) |\n",
    "| **0 gradients** | Indicates the model isn’t currently in training mode |\n",
    "| **195.4 GFLOPs** | Approximate computational cost per image (billions of operations) |"
   ]
  },
  {
   "cell_type": "code",
   "execution_count": 7,
   "id": "b23d672c",
   "metadata": {},
   "outputs": [
    {
     "name": "stdout",
     "output_type": "stream",
     "text": [
      "Ultralytics 8.3.205 🚀 Python-3.11.5 torch-2.2.2 CPU (Intel Core i5-6287U 3.10GHz)\n",
      "\u001b[34m\u001b[1mval: \u001b[0mFast image access ✅ (ping: 0.0±0.0 ms, read: 215.2±114.3 MB/s, size: 1757.1 KB)\n",
      "\u001b[K\u001b[34m\u001b[1mval: \u001b[0mScanning /Users/chris/Desktop/UCLL 2025-2026/AI Applications/play-around/images/detection/fine_tune_yolo/bottles_on_site/labels/val... 21 images, 1 backgrounds, 0 corrupt: 100% ━━━━━━━━━━━━ 22/22 177.9it/s 0.1s.0s\n",
      "\u001b[34m\u001b[1mval: \u001b[0mNew cache created: /Users/chris/Desktop/UCLL 2025-2026/AI Applications/play-around/images/detection/fine_tune_yolo/bottles_on_site/labels/val.cache\n",
      "\u001b[K                 Class     Images  Instances      Box(P          R      mAP50  mAP50-95): 100% ━━━━━━━━━━━━ 2/2 0.1it/s 34.9s1:26\n",
      "                   all         22         28      0.957      0.964      0.992      0.901\n",
      "Speed: 6.3ms preprocess, 1487.5ms inference, 0.0ms loss, 1.0ms postprocess per image\n",
      "Results saved to \u001b[1m/Users/chris/Desktop/UCLL 2025-2026/AI Applications/play-around/runs/detect/val2\u001b[0m\n"
     ]
    }
   ],
   "source": [
    "# Check performance of this model\n",
    "results = model.val(data=\"explore_model_val.yaml\")"
   ]
  },
  {
   "cell_type": "markdown",
   "id": "18f466af",
   "metadata": {},
   "source": [
    " !!! You don't need to specify the label path in the evaluation YAML because the framework is designed to infer it from the image path, provided your dataset is structured correctly."
   ]
  }
 ],
 "metadata": {
  "kernelspec": {
   "display_name": ".venv",
   "language": "python",
   "name": "python3"
  },
  "language_info": {
   "codemirror_mode": {
    "name": "ipython",
    "version": 3
   },
   "file_extension": ".py",
   "mimetype": "text/x-python",
   "name": "python",
   "nbconvert_exporter": "python",
   "pygments_lexer": "ipython3",
   "version": "3.11.4"
  }
 },
 "nbformat": 4,
 "nbformat_minor": 5
}
